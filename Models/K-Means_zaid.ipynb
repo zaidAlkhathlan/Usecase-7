{
 "cells": [
  {
   "cell_type": "code",
   "execution_count": 4,
   "id": "e69c4ba1-85f3-4a02-ae37-c64347a01803",
   "metadata": {},
   "outputs": [],
   "source": [
    "# To ignore warnings\n",
    "import warnings\n",
    "warnings.filterwarnings(\"ignore\")\n",
    "import pandas as pd\n",
    "import numpy as np\n",
    "import matplotlib.pyplot as plt\n",
    "import seaborn as sns\n",
    "\n",
    "from sklearn.model_selection import train_test_split, cross_val_score\n",
    "from sklearn.preprocessing import StandardScaler\n",
    "from sklearn.cluster import KMeans\n",
    "from sklearn.preprocessing import LabelEncoder\n",
    "\n",
    "from sklearn import metrics\n",
    "\n",
    "%matplotlib inline"
   ]
  },
  {
   "cell_type": "markdown",
   "id": "e395e8bf-b530-4720-8d0f-26811e927d6e",
   "metadata": {},
   "source": [
    "## Loading the data\n",
    "We can now load the dataset into pandas using the read_csv() function. This converts the CSV file into a Pandas dataframe."
   ]
  },
  {
   "cell_type": "code",
   "execution_count": 5,
   "id": "cf4030b0-aa7f-4bd7-8e9c-c1b7f4d202d0",
   "metadata": {},
   "outputs": [],
   "source": [
    "#Read in the csv file and convert to a Pandas dataframe\n",
    "df = pd.read_csv(\"Data/final_data.csv\")"
   ]
  },
  {
   "cell_type": "markdown",
   "id": "ca5ed983-0f72-43eb-8168-6fafd48c562e",
   "metadata": {},
   "source": [
    "### Viewing the dataframe\n",
    "We can get a quick sense of the size of our dataset by using the shape method. This returns a tuple with the number of rows and columns in the dataset."
   ]
  },
  {
   "cell_type": "code",
   "execution_count": 6,
   "id": "bfde0b69-613c-4dd1-8ebf-e4d2e570e653",
   "metadata": {},
   "outputs": [
    {
     "data": {
      "text/html": [
       "<div>\n",
       "<style scoped>\n",
       "    .dataframe tbody tr th:only-of-type {\n",
       "        vertical-align: middle;\n",
       "    }\n",
       "\n",
       "    .dataframe tbody tr th {\n",
       "        vertical-align: top;\n",
       "    }\n",
       "\n",
       "    .dataframe thead th {\n",
       "        text-align: right;\n",
       "    }\n",
       "</style>\n",
       "<table border=\"1\" class=\"dataframe\">\n",
       "  <thead>\n",
       "    <tr style=\"text-align: right;\">\n",
       "      <th></th>\n",
       "      <th>player</th>\n",
       "      <th>team</th>\n",
       "      <th>name</th>\n",
       "      <th>position</th>\n",
       "      <th>height</th>\n",
       "      <th>age</th>\n",
       "      <th>appearance</th>\n",
       "      <th>goals</th>\n",
       "      <th>assists</th>\n",
       "      <th>yellow cards</th>\n",
       "      <th>...</th>\n",
       "      <th>goals conceded</th>\n",
       "      <th>clean sheets</th>\n",
       "      <th>minutes played</th>\n",
       "      <th>days_injured</th>\n",
       "      <th>games_injured</th>\n",
       "      <th>award</th>\n",
       "      <th>current_value</th>\n",
       "      <th>highest_value</th>\n",
       "      <th>position_encoded</th>\n",
       "      <th>winger</th>\n",
       "    </tr>\n",
       "  </thead>\n",
       "  <tbody>\n",
       "    <tr>\n",
       "      <th>0</th>\n",
       "      <td>/david-de-gea/profil/spieler/59377</td>\n",
       "      <td>Manchester United</td>\n",
       "      <td>David de Gea</td>\n",
       "      <td>Goalkeeper</td>\n",
       "      <td>189.0</td>\n",
       "      <td>32.0</td>\n",
       "      <td>104</td>\n",
       "      <td>0.000000</td>\n",
       "      <td>0.000000</td>\n",
       "      <td>0.009585</td>\n",
       "      <td>...</td>\n",
       "      <td>1.217252</td>\n",
       "      <td>0.335463</td>\n",
       "      <td>9390</td>\n",
       "      <td>42</td>\n",
       "      <td>5</td>\n",
       "      <td>13</td>\n",
       "      <td>15000000</td>\n",
       "      <td>70000000</td>\n",
       "      <td>1</td>\n",
       "      <td>0</td>\n",
       "    </tr>\n",
       "    <tr>\n",
       "      <th>1</th>\n",
       "      <td>/jack-butland/profil/spieler/128899</td>\n",
       "      <td>Manchester United</td>\n",
       "      <td>Jack Butland</td>\n",
       "      <td>Goalkeeper</td>\n",
       "      <td>196.0</td>\n",
       "      <td>30.0</td>\n",
       "      <td>15</td>\n",
       "      <td>0.000000</td>\n",
       "      <td>0.000000</td>\n",
       "      <td>0.069018</td>\n",
       "      <td>...</td>\n",
       "      <td>1.242331</td>\n",
       "      <td>0.207055</td>\n",
       "      <td>1304</td>\n",
       "      <td>510</td>\n",
       "      <td>58</td>\n",
       "      <td>1</td>\n",
       "      <td>1500000</td>\n",
       "      <td>22000000</td>\n",
       "      <td>1</td>\n",
       "      <td>0</td>\n",
       "    </tr>\n",
       "    <tr>\n",
       "      <th>2</th>\n",
       "      <td>/tom-heaton/profil/spieler/34130</td>\n",
       "      <td>Manchester United</td>\n",
       "      <td>Tom Heaton</td>\n",
       "      <td>Goalkeeper</td>\n",
       "      <td>188.0</td>\n",
       "      <td>37.0</td>\n",
       "      <td>4</td>\n",
       "      <td>0.000000</td>\n",
       "      <td>0.000000</td>\n",
       "      <td>0.000000</td>\n",
       "      <td>...</td>\n",
       "      <td>0.616438</td>\n",
       "      <td>0.924658</td>\n",
       "      <td>292</td>\n",
       "      <td>697</td>\n",
       "      <td>84</td>\n",
       "      <td>4</td>\n",
       "      <td>600000</td>\n",
       "      <td>6000000</td>\n",
       "      <td>1</td>\n",
       "      <td>0</td>\n",
       "    </tr>\n",
       "    <tr>\n",
       "      <th>3</th>\n",
       "      <td>/lisandro-martinez/profil/spieler/480762</td>\n",
       "      <td>Manchester United</td>\n",
       "      <td>Lisandro Martínez</td>\n",
       "      <td>Defender Centre-Back</td>\n",
       "      <td>175.0</td>\n",
       "      <td>25.0</td>\n",
       "      <td>82</td>\n",
       "      <td>0.028090</td>\n",
       "      <td>0.056180</td>\n",
       "      <td>0.224719</td>\n",
       "      <td>...</td>\n",
       "      <td>0.000000</td>\n",
       "      <td>0.000000</td>\n",
       "      <td>6408</td>\n",
       "      <td>175</td>\n",
       "      <td>22</td>\n",
       "      <td>9</td>\n",
       "      <td>50000000</td>\n",
       "      <td>50000000</td>\n",
       "      <td>2</td>\n",
       "      <td>0</td>\n",
       "    </tr>\n",
       "    <tr>\n",
       "      <th>4</th>\n",
       "      <td>/raphael-varane/profil/spieler/164770</td>\n",
       "      <td>Manchester United</td>\n",
       "      <td>Raphaël Varane</td>\n",
       "      <td>Defender Centre-Back</td>\n",
       "      <td>191.0</td>\n",
       "      <td>30.0</td>\n",
       "      <td>63</td>\n",
       "      <td>0.017889</td>\n",
       "      <td>0.017889</td>\n",
       "      <td>0.053667</td>\n",
       "      <td>...</td>\n",
       "      <td>0.000000</td>\n",
       "      <td>0.000000</td>\n",
       "      <td>5031</td>\n",
       "      <td>238</td>\n",
       "      <td>51</td>\n",
       "      <td>21</td>\n",
       "      <td>40000000</td>\n",
       "      <td>80000000</td>\n",
       "      <td>2</td>\n",
       "      <td>0</td>\n",
       "    </tr>\n",
       "  </tbody>\n",
       "</table>\n",
       "<p>5 rows × 22 columns</p>\n",
       "</div>"
      ],
      "text/plain": [
       "                                     player               team  \\\n",
       "0        /david-de-gea/profil/spieler/59377  Manchester United   \n",
       "1       /jack-butland/profil/spieler/128899  Manchester United   \n",
       "2          /tom-heaton/profil/spieler/34130  Manchester United   \n",
       "3  /lisandro-martinez/profil/spieler/480762  Manchester United   \n",
       "4     /raphael-varane/profil/spieler/164770  Manchester United   \n",
       "\n",
       "                name              position  height   age  appearance  \\\n",
       "0       David de Gea            Goalkeeper   189.0  32.0         104   \n",
       "1       Jack Butland            Goalkeeper   196.0  30.0          15   \n",
       "2         Tom Heaton            Goalkeeper   188.0  37.0           4   \n",
       "3  Lisandro Martínez  Defender Centre-Back   175.0  25.0          82   \n",
       "4     Raphaël Varane  Defender Centre-Back   191.0  30.0          63   \n",
       "\n",
       "      goals   assists  yellow cards  ...  goals conceded  clean sheets  \\\n",
       "0  0.000000  0.000000      0.009585  ...        1.217252      0.335463   \n",
       "1  0.000000  0.000000      0.069018  ...        1.242331      0.207055   \n",
       "2  0.000000  0.000000      0.000000  ...        0.616438      0.924658   \n",
       "3  0.028090  0.056180      0.224719  ...        0.000000      0.000000   \n",
       "4  0.017889  0.017889      0.053667  ...        0.000000      0.000000   \n",
       "\n",
       "   minutes played  days_injured  games_injured  award  current_value  \\\n",
       "0            9390            42              5     13       15000000   \n",
       "1            1304           510             58      1        1500000   \n",
       "2             292           697             84      4         600000   \n",
       "3            6408           175             22      9       50000000   \n",
       "4            5031           238             51     21       40000000   \n",
       "\n",
       "   highest_value  position_encoded  winger  \n",
       "0       70000000                 1       0  \n",
       "1       22000000                 1       0  \n",
       "2        6000000                 1       0  \n",
       "3       50000000                 2       0  \n",
       "4       80000000                 2       0  \n",
       "\n",
       "[5 rows x 22 columns]"
      ]
     },
     "execution_count": 6,
     "metadata": {},
     "output_type": "execute_result"
    }
   ],
   "source": [
    "df.head()"
   ]
  },
  {
   "cell_type": "code",
   "execution_count": 7,
   "id": "764c1594",
   "metadata": {},
   "outputs": [
    {
     "data": {
      "text/plain": [
       "(10754, 22)"
      ]
     },
     "execution_count": 7,
     "metadata": {},
     "output_type": "execute_result"
    }
   ],
   "source": [
    "df.shape"
   ]
  },
  {
   "cell_type": "markdown",
   "id": "bd2b5bc4-db37-4432-b666-0714afd0c4ca",
   "metadata": {},
   "source": [
    "## 1. Data Profiling:\n",
    "Data profiling is a comprehensive process of examining the data available in an existing dataset and collecting statistics and information about that data. "
   ]
  },
  {
   "cell_type": "code",
   "execution_count": 8,
   "id": "672f2081-5a2c-4908-8cbd-29519fb3cac5",
   "metadata": {},
   "outputs": [
    {
     "name": "stdout",
     "output_type": "stream",
     "text": [
      "<class 'pandas.core.frame.DataFrame'>\n",
      "RangeIndex: 10754 entries, 0 to 10753\n",
      "Data columns (total 22 columns):\n",
      " #   Column               Non-Null Count  Dtype  \n",
      "---  ------               --------------  -----  \n",
      " 0   player               10754 non-null  object \n",
      " 1   team                 10754 non-null  object \n",
      " 2   name                 10754 non-null  object \n",
      " 3   position             10754 non-null  object \n",
      " 4   height               10754 non-null  float64\n",
      " 5   age                  10754 non-null  float64\n",
      " 6   appearance           10754 non-null  int64  \n",
      " 7   goals                10754 non-null  float64\n",
      " 8   assists              10754 non-null  float64\n",
      " 9   yellow cards         10754 non-null  float64\n",
      " 10  second yellow cards  10754 non-null  float64\n",
      " 11  red cards            10754 non-null  float64\n",
      " 12  goals conceded       10754 non-null  float64\n",
      " 13  clean sheets         10754 non-null  float64\n",
      " 14  minutes played       10754 non-null  int64  \n",
      " 15  days_injured         10754 non-null  int64  \n",
      " 16  games_injured        10754 non-null  int64  \n",
      " 17  award                10754 non-null  int64  \n",
      " 18  current_value        10754 non-null  int64  \n",
      " 19  highest_value        10754 non-null  int64  \n",
      " 20  position_encoded     10754 non-null  int64  \n",
      " 21  winger               10754 non-null  int64  \n",
      "dtypes: float64(9), int64(9), object(4)\n",
      "memory usage: 1.8+ MB\n"
     ]
    }
   ],
   "source": [
    "df.info()"
   ]
  },
  {
   "cell_type": "markdown",
   "id": "834929aa-fd6a-4ec5-84d4-77c4b3c1a506",
   "metadata": {},
   "source": [
    "The process of profiling differs slightly for categorical and numerical variables due to their inherent differences.\n",
    "\n",
    "**The two main types of data are:**\n",
    "- Quantitative (numerical) data\n",
    "- Qualitative (categorical) data"
   ]
  },
  {
   "cell_type": "markdown",
   "id": "3a9954f5-6fbc-45b4-ad86-3e21b6e0ca2d",
   "metadata": {},
   "source": [
    "### Data Quality Checks\n",
    "Data quality checks involve the process of ensuring that the data is accurate, complete, consistent, relevant, and reliable. \n",
    "\n",
    "\n",
    "**Here are typical steps involved in checking data quality:**"
   ]
  },
  {
   "cell_type": "markdown",
   "id": "4818c876-173d-4e56-9e7d-b4334d2def25",
   "metadata": {},
   "source": [
    "#### 1. Reliability:\n",
    "Evaluate the data's source and collection process to determine its trustworthiness."
   ]
  },
  {
   "cell_type": "code",
   "execution_count": 9,
   "id": "9034ae7b-dc1d-4cba-8f9e-bb499d021cde",
   "metadata": {},
   "outputs": [],
   "source": [
    "# yes it is reliable"
   ]
  },
  {
   "cell_type": "markdown",
   "id": "2ce0cc59-8c92-4acc-8d07-c40764e1a86b",
   "metadata": {},
   "source": [
    "#### 2. Timeliness: \n",
    "Ensure the data is up-to-date and reflective of the current situation or the period of interest for the analysis."
   ]
  },
  {
   "cell_type": "code",
   "execution_count": 10,
   "id": "4b78ae35-7226-4cb6-b8b2-a46c2ed17cf9",
   "metadata": {},
   "outputs": [],
   "source": [
    "# it is 2021 - 2023"
   ]
  },
  {
   "cell_type": "markdown",
   "id": "7fab0fe2-6624-4615-b9d8-3c3669056bf8",
   "metadata": {},
   "source": [
    "#### 3. Consistency: \n",
    "\n",
    "Confirm that the data is consistent within the dataset and across multiple data sources. For example, the same data point should not have different values in different places.\n"
   ]
  },
  {
   "cell_type": "code",
   "execution_count": 11,
   "id": "7fecc573-959f-4800-8ddd-a67985c68b18",
   "metadata": {},
   "outputs": [],
   "source": [
    "# only one data source"
   ]
  },
  {
   "cell_type": "markdown",
   "id": "bec3d183-bba0-4b12-b963-487daab1e876",
   "metadata": {},
   "source": [
    "#### 4. Relevance: \n",
    "Assess whether the data is appropriate and applicable for the intended analysis. Data that is not relevant can skew results and lead to incorrect conclusions.\n",
    "\n",
    "**Key considerations for relevance include:**\n",
    "\n",
    "> 1. Sample Appropriateness: Confirm that your data sample aligns with your analysis objectives. For instance, utilizing data from the Northern region will not yield accurate insights for the Western region of the Kingdom.\n",
    ">\n",
    "> 2. Variable Selection: Any column will not be relevant for our analysis, we can get rid of these using the drop() method. We will set the “axis” argument to 1 since we’re dealing with columns, and set the “inplace” argument to True to make the change permanent.\n"
   ]
  },
  {
   "cell_type": "code",
   "execution_count": 12,
   "id": "50a934b7-a0cd-443f-8a27-f10e9a6e8647",
   "metadata": {
    "scrolled": true
   },
   "outputs": [
    {
     "data": {
      "text/plain": [
       "Index(['player', 'team', 'name', 'position', 'height', 'age', 'appearance',\n",
       "       'goals', 'assists', 'yellow cards', 'second yellow cards', 'red cards',\n",
       "       'goals conceded', 'clean sheets', 'minutes played', 'days_injured',\n",
       "       'games_injured', 'award', 'current_value', 'highest_value',\n",
       "       'position_encoded', 'winger'],\n",
       "      dtype='object')"
      ]
     },
     "execution_count": 12,
     "metadata": {},
     "output_type": "execute_result"
    }
   ],
   "source": [
    "df.columns"
   ]
  },
  {
   "cell_type": "markdown",
   "id": "0f5e3a2a-bbb7-4d06-8220-c93277b70146",
   "metadata": {},
   "source": [
    "#### 5. Uniqueness: \n",
    "Check for and remove duplicate records to prevent skewed analysis results.\n"
   ]
  },
  {
   "cell_type": "code",
   "execution_count": 13,
   "id": "a509a7aa-58f4-4d39-8eb8-e8298a21f2a7",
   "metadata": {},
   "outputs": [
    {
     "data": {
      "text/plain": [
       "0"
      ]
     },
     "execution_count": 13,
     "metadata": {},
     "output_type": "execute_result"
    }
   ],
   "source": [
    "df.duplicated().sum()"
   ]
  },
  {
   "cell_type": "code",
   "execution_count": 14,
   "id": "04c62559-3b48-48cf-a4e9-857e2e0ff416",
   "metadata": {},
   "outputs": [],
   "source": [
    "# go to delete duplicates columns"
   ]
  },
  {
   "cell_type": "markdown",
   "id": "c7724ac2-4ea2-4cf4-a9e0-e64368f87b92",
   "metadata": {},
   "source": [
    "#### 6. Completeness: \n",
    "Ensure that no critical data is missing. This might mean checking for null values or required fields that are empty.\n",
    "\n",
    "We will start by checking the dataset for missing or null values. For this, we can use the isna() method which returns a dataframe of boolean values indicating if a field is null or not. To group all missing values by column, we can include the sum() method."
   ]
  },
  {
   "cell_type": "code",
   "execution_count": 15,
   "id": "48a4de54-a344-4b94-9908-9528c15c13f7",
   "metadata": {},
   "outputs": [],
   "source": [
    "#Display number missing values per column"
   ]
  },
  {
   "cell_type": "code",
   "execution_count": 16,
   "id": "1052e8f9",
   "metadata": {},
   "outputs": [
    {
     "data": {
      "text/plain": [
       "player                 0\n",
       "team                   0\n",
       "name                   0\n",
       "position               0\n",
       "height                 0\n",
       "age                    0\n",
       "appearance             0\n",
       "goals                  0\n",
       "assists                0\n",
       "yellow cards           0\n",
       "second yellow cards    0\n",
       "red cards              0\n",
       "goals conceded         0\n",
       "clean sheets           0\n",
       "minutes played         0\n",
       "days_injured           0\n",
       "games_injured          0\n",
       "award                  0\n",
       "current_value          0\n",
       "highest_value          0\n",
       "position_encoded       0\n",
       "winger                 0\n",
       "dtype: int64"
      ]
     },
     "execution_count": 16,
     "metadata": {},
     "output_type": "execute_result"
    }
   ],
   "source": [
    "df.isnull().sum()"
   ]
  },
  {
   "cell_type": "code",
   "execution_count": 17,
   "id": "abec31c4-0904-4b73-8cee-b7bc14ab1e67",
   "metadata": {},
   "outputs": [],
   "source": [
    "# go to clean them "
   ]
  },
  {
   "cell_type": "markdown",
   "id": "b40de63c-5a1d-49ed-a87e-c5229ee08bbe",
   "metadata": {},
   "source": [
    "#### 7. Check Accuracy:\n",
    "\n",
    "Verify that the data is correct and precise. This could involve comparing data samples with known sources or using validation rules.\n",
    "\n",
    "**The process includes:**\n",
    "1. Validating the appropriateness of data types for the dataset.\n",
    "2. Identifying outliers  using established validation  rule"
   ]
  },
  {
   "cell_type": "code",
   "execution_count": 18,
   "id": "68be5334-ae10-4abd-8097-3259fe5e72c8",
   "metadata": {},
   "outputs": [],
   "source": [
    "# check columns types "
   ]
  },
  {
   "cell_type": "code",
   "execution_count": 19,
   "id": "2ee790ba-dcc0-45f1-b6f8-0133e913e149",
   "metadata": {},
   "outputs": [],
   "source": [
    "# go to clean them "
   ]
  },
  {
   "cell_type": "code",
   "execution_count": 20,
   "id": "c69b303a-5459-45f9-a28e-fcee45c21c05",
   "metadata": {},
   "outputs": [],
   "source": [
    "# check outliers "
   ]
  },
  {
   "cell_type": "markdown",
   "id": "4aca9d42-add6-45db-92cf-1f6dae5f277b",
   "metadata": {},
   "source": [
    "**What is an Outlier?** \n",
    "Outlier is an row/observation that appears far away and diverges from an overall pattern in a sample.\n",
    "\n",
    "**What are the types of Outliers?**\n",
    "1. Univariate: These outliers can be found when we look at distribution of a single variable\n",
    "2. Multivariate: are outliers in an n-dimensional space. In order to find them, you have to look at distributions in multi-dimensions. example (hight=100, weight=100) for a person\n",
    "\n",
    "**What causes Outliers?**\n",
    "Whenever we come across outliers, the ideal way to tackle them is to find out the reason of having these outliers. The method to deal with them would then depend on the reason of their occurrence.\n",
    "\n",
    "Let’s understand various types of outliers:\n",
    "\n",
    "1. Data Entry Errors:- Human errors such as errors caused during data collection, recording, or entry can cause outliers in data.\n",
    "2. Measurement Error: It is the most common source of outliers. This is caused when the measurement instrument used turns out to be faulty.\n",
    "3. Data Processing Error: Whenever we perform data mining, we extract data from multiple sources. It is possible that some manipulation or extraction errors may lead to outliers in the dataset.\n",
    "4. Sampling error: For instance, we have to measure the height of athletes. By mistake, we include a few basketball players in the sample. This inclusion is likely to cause outliers in the dataset.\n",
    "5. Natural Outlier: When an outlier is not artificial (due to error), it is a natural outlier. For instance: In my last assignment with one of the renowned insurance company, I noticed that the performance of top 50 financial advisors was far higher than rest of the population. Surprisingly, it was not due to any error. Hence, whenever we perform any data mining activity with advisors, we used to treat this segment separately.\n",
    "\n",
    "\n",
    "**What is the impact of Outliers on a dataset?**\n",
    "\n",
    "\n",
    "![image.png](https://www.analyticsvidhya.com/wp-content/uploads/2015/02/Outlier_31.png)\n",
    "\n",
    "\n",
    "\n",
    "**How to detect Outliers?**\n",
    "\n",
    "1. Most commonly used method to detect outliers is visualization (Univariate Graphical Analysis).\n",
    "\n",
    "We use 3 common visualization methods:\n",
    ">- Box-plot: A box plot is a method for graphically depicting groups of numerical data through their quartiles. The box extends from the Q1 to Q3 quartile values of the data, with a line at the median (Q2). The whiskers extend from the edges of the box to show the range of the data. Outlier points are those past the end of the whiskers. Box plots show robust measures of location and spread as well as providing information about symmetry and outliers.\n",
    ">\n",
    ">  \n",
    ">![image.png](https://miro.medium.com/v2/resize:fit:698/format:webp/1*VK5iHA2AB28HSZwWwUbNYg.png)\n",
    ">\n",
    ">\n",
    ">- Histogram\n",
    ">- Scatter Plot: A scatter plot is a mathematical diagram using Cartesian coordinates to display values for two variables for a set of data. The data are displayed as a collection of points, each having the value of one variable determining the position on the horizontal axis and the value of the other variable determining the position on the vertical axis. The points that are far from the population can be termed as an outlier.\n",
    ">\n",
    ">  \n",
    ">![image.png](https://miro.medium.com/v2/resize:fit:4800/format:webp/1*Ov6aH-8yIwNoUxtMFwgx4g.png)\n",
    ">\n",
    ">\n",
    "\n",
    "2. Using statistical method (Univariate Non-Graphical analysis):\n",
    ">- Any value, which is beyond the range of -1.5 x IQR to 1.5 x IQR\n",
    " \n",
    "![image.png](https://www.whatissixsigma.net/wp-content/uploads/2015/07/Box-Plot-Diagram-to-identify-Outliers-figure-1.png)\n",
    "\n",
    ">- Use capping methods. Any value which out of range of 5th and 95th percentile can be considered as outlier\n",
    ">- Data points, three or more standard deviation away from mean are considered outlier: The Z-score is the signed number of standard deviations by which the value of an observation or data point is above the mean value of what is being observed or measured. While calculating the Z-score we re-scale and center the data and look for data points that are too far from zero. These data points which are way too far from zero will be treated as the outliers. In most of the cases, a threshold of 3 or -3 is used i.e if the Z-score value is greater than or less than 3 or -3 respectively, that data point will be identified as outliers.\n",
    "> - Outlier detection is merely a special case of the examination of data for influential data points and it also depends on the business understanding\n"
   ]
  },
  {
   "cell_type": "code",
   "execution_count": 21,
   "id": "74ea6194-cc01-45d8-be38-c4543eb1714e",
   "metadata": {},
   "outputs": [],
   "source": [
    "# go to univariate graphical analysis\n",
    "# go to lesson : data visualisation 1 - chart type section\n",
    "# then go to univariate graphical analysis\n",
    "# detect outliers using graphs varbaly"
   ]
  },
  {
   "cell_type": "code",
   "execution_count": 22,
   "id": "48ecf77b-480c-4f64-9485-95be805bc357",
   "metadata": {},
   "outputs": [],
   "source": [
    "# go to lesson: statistics 1 then statistics 3\n",
    "# then go to univariate Non graphical analysis\n",
    "# detect outliers using numerical statistics "
   ]
  },
  {
   "cell_type": "code",
   "execution_count": null,
   "id": "ee200da8-62b0-492d-b118-f4d665a1fb16",
   "metadata": {},
   "outputs": [],
   "source": []
  },
  {
   "cell_type": "code",
   "execution_count": 23,
   "id": "4e66d611-6958-4860-8522-9ada7fce40b0",
   "metadata": {},
   "outputs": [],
   "source": [
    "# go to delete ouliers"
   ]
  },
  {
   "attachments": {},
   "cell_type": "markdown",
   "id": "4e886ec7-388c-414b-ada7-803c2fb1f2cb",
   "metadata": {},
   "source": [
    "## 2. Data Cleaning: \n",
    "\n",
    "Preliminary findings from data profiling can lead to cleaning the data by:\n",
    "- Handling missing values\n",
    "- Correcting errors.\n",
    "- Dealing with outliers.\n",
    "\n",
    "-------------------\n",
    "\n"
   ]
  },
  {
   "cell_type": "markdown",
   "id": "21876b48-f5ec-4970-85a9-0520d45d8841",
   "metadata": {},
   "source": [
    "### Handling missing values:"
   ]
  },
  {
   "cell_type": "markdown",
   "id": "c890d5a2-2a65-4090-9427-f89c0f011d3f",
   "metadata": {},
   "source": [
    "**Why my data has missing values?**\n",
    "They may occur at two stages:\n",
    "1. Data Extraction: It is possible that there are problems with extraction process. Errors at data extraction stage are typically easy to find and can be corrected easily as well.\n",
    "2. Data collection: These errors occur at time of data collection and are harder to correct.\n",
    "\n",
    "**Why do we need to handle the missing data?**\n",
    "To avoid:\n",
    "- Bias the conclusions.\n",
    "- Leading the business to make wrong decisions.\n",
    "\n",
    "**Which are the methods to treat missing values ?**\n",
    "1. Deletion: we delete rows where any of the variable is missing. Simplicity is one of the major advantage of this method, but this method reduces the power of model because it reduces the sample size.\n",
    "\n",
    "2. Imputation: is a method to fill in the missing values with estimated ones. This imputation is one of the most frequently used methods.\n",
    "\n",
    "    2.1. Mean/ Mode/ Median Imputation: It consists of replacing the missing data for a given attribute by the mean or median (quantitative attribute) or mode (qualitative attribute) of all known values of that variable.\n",
    "    > It can be of two types:\n",
    "    > - Generalized Imputation: In this case, we calculate the mean or median for all non missing values of that variable then replace missing value with mean or median.\n",
    "    > - Similar case Imputation: In this case, we calculate average for each group individually of non missing values then replace the missing value based on the group.\n",
    "\n",
    "    2.2. Constant Value\n",
    "   \n",
    "    2.3. Forward Filling\n",
    "   \n",
    "    2.4. Backward Filling\n",
    "\n",
    "6. Prediction Model:  Prediction model is one of the sophisticated method for handling missing data. Here, we create a predictive model to estimate values that will substitute the missing data.  In this case, we divide our data set into two sets: One set with no missing values for the variable and another one with missing values. First data set become training data set of the model while second data set with missing values is test data set and variable with missing values is treated as target variable. Next, we create a model to predict target variable based on other attributes of the training data set and populate missing values of test data set.\n",
    "\n",
    "> There are 2 drawbacks for this approach:\n",
    "> - The model estimated values are usually more well-behaved than the true values\n",
    "> - If there are no relationships with attributes in the data set and the attribute with missing values, then the model will not be precise for estimating missing values.\n",
    "\n",
    "9. KNN Imputation: In this method of imputation, the missing values of an attribute are imputed using the given number of attributes that are most similar to the attribute whose values are missing. The similarity of two attributes is determined using a distance function. It is also known to have certain advantage & disadvantages.\n",
    "\n",
    "   > **Advantages:**\n",
    "   > - k-nearest neighbour can predict both qualitative & quantitative attributes\n",
    "   > - Creation of predictive model for each attribute with missing data is not required\n",
    "   > - Attributes with multiple missing values can be easily treated\n",
    "   > - Correlation structure of the data is taken into consideration\n",
    "\n",
    "   > **Disadvantage:**\n",
    "   > - KNN algorithm is very time-consuming in analyzing large database. It searches through all the dataset looking for the most similar instances.\n",
    "   > - Choice of k-value is very critical. Higher value of k would include attributes which are significantly different from what we need whereas lower value of k implies missing out of significant attributes.\n",
    "\n",
    "--------------------\n"
   ]
  },
  {
   "cell_type": "code",
   "execution_count": 24,
   "id": "57e741fb-71c1-46ad-a526-d8f0b1564dc3",
   "metadata": {},
   "outputs": [
    {
     "data": {
      "text/html": [
       "<div>\n",
       "<style scoped>\n",
       "    .dataframe tbody tr th:only-of-type {\n",
       "        vertical-align: middle;\n",
       "    }\n",
       "\n",
       "    .dataframe tbody tr th {\n",
       "        vertical-align: top;\n",
       "    }\n",
       "\n",
       "    .dataframe thead th {\n",
       "        text-align: right;\n",
       "    }\n",
       "</style>\n",
       "<table border=\"1\" class=\"dataframe\">\n",
       "  <thead>\n",
       "    <tr style=\"text-align: right;\">\n",
       "      <th></th>\n",
       "      <th>count</th>\n",
       "      <th>mean</th>\n",
       "      <th>std</th>\n",
       "      <th>min</th>\n",
       "      <th>25%</th>\n",
       "      <th>50%</th>\n",
       "      <th>75%</th>\n",
       "      <th>max</th>\n",
       "    </tr>\n",
       "  </thead>\n",
       "  <tbody>\n",
       "    <tr>\n",
       "      <th>height</th>\n",
       "      <td>10754.0</td>\n",
       "      <td>1.812404e+02</td>\n",
       "      <td>6.969818e+00</td>\n",
       "      <td>156.0</td>\n",
       "      <td>176.000000</td>\n",
       "      <td>1.812404e+02</td>\n",
       "      <td>1.860000e+02</td>\n",
       "      <td>2.060000e+02</td>\n",
       "    </tr>\n",
       "    <tr>\n",
       "      <th>age</th>\n",
       "      <td>10754.0</td>\n",
       "      <td>2.604190e+01</td>\n",
       "      <td>4.777629e+00</td>\n",
       "      <td>15.0</td>\n",
       "      <td>22.000000</td>\n",
       "      <td>2.600000e+01</td>\n",
       "      <td>2.900000e+01</td>\n",
       "      <td>4.300000e+01</td>\n",
       "    </tr>\n",
       "    <tr>\n",
       "      <th>appearance</th>\n",
       "      <td>10754.0</td>\n",
       "      <td>3.640701e+01</td>\n",
       "      <td>2.652654e+01</td>\n",
       "      <td>0.0</td>\n",
       "      <td>12.000000</td>\n",
       "      <td>3.500000e+01</td>\n",
       "      <td>5.900000e+01</td>\n",
       "      <td>1.070000e+02</td>\n",
       "    </tr>\n",
       "    <tr>\n",
       "      <th>goals</th>\n",
       "      <td>10754.0</td>\n",
       "      <td>1.255543e-01</td>\n",
       "      <td>2.355851e-01</td>\n",
       "      <td>0.0</td>\n",
       "      <td>0.000000</td>\n",
       "      <td>4.596918e-02</td>\n",
       "      <td>1.722625e-01</td>\n",
       "      <td>1.125000e+01</td>\n",
       "    </tr>\n",
       "    <tr>\n",
       "      <th>assists</th>\n",
       "      <td>10754.0</td>\n",
       "      <td>8.697765e-02</td>\n",
       "      <td>1.433513e-01</td>\n",
       "      <td>0.0</td>\n",
       "      <td>0.000000</td>\n",
       "      <td>4.077323e-02</td>\n",
       "      <td>1.331361e-01</td>\n",
       "      <td>4.000000e+00</td>\n",
       "    </tr>\n",
       "    <tr>\n",
       "      <th>yellow cards</th>\n",
       "      <td>10754.0</td>\n",
       "      <td>1.897572e-01</td>\n",
       "      <td>4.323879e-01</td>\n",
       "      <td>0.0</td>\n",
       "      <td>0.053191</td>\n",
       "      <td>1.502504e-01</td>\n",
       "      <td>2.482759e-01</td>\n",
       "      <td>3.000000e+01</td>\n",
       "    </tr>\n",
       "    <tr>\n",
       "      <th>second yellow cards</th>\n",
       "      <td>10754.0</td>\n",
       "      <td>4.665667e-03</td>\n",
       "      <td>2.523200e-02</td>\n",
       "      <td>0.0</td>\n",
       "      <td>0.000000</td>\n",
       "      <td>0.000000e+00</td>\n",
       "      <td>0.000000e+00</td>\n",
       "      <td>1.000000e+00</td>\n",
       "    </tr>\n",
       "    <tr>\n",
       "      <th>red cards</th>\n",
       "      <td>10754.0</td>\n",
       "      <td>6.826070e-03</td>\n",
       "      <td>8.114266e-02</td>\n",
       "      <td>0.0</td>\n",
       "      <td>0.000000</td>\n",
       "      <td>0.000000e+00</td>\n",
       "      <td>0.000000e+00</td>\n",
       "      <td>6.923077e+00</td>\n",
       "    </tr>\n",
       "    <tr>\n",
       "      <th>goals conceded</th>\n",
       "      <td>10754.0</td>\n",
       "      <td>1.316555e-01</td>\n",
       "      <td>4.423355e-01</td>\n",
       "      <td>0.0</td>\n",
       "      <td>0.000000</td>\n",
       "      <td>0.000000e+00</td>\n",
       "      <td>0.000000e+00</td>\n",
       "      <td>9.000000e+00</td>\n",
       "    </tr>\n",
       "    <tr>\n",
       "      <th>clean sheets</th>\n",
       "      <td>10754.0</td>\n",
       "      <td>4.488090e-02</td>\n",
       "      <td>9.244373e-01</td>\n",
       "      <td>0.0</td>\n",
       "      <td>0.000000</td>\n",
       "      <td>0.000000e+00</td>\n",
       "      <td>0.000000e+00</td>\n",
       "      <td>9.000000e+01</td>\n",
       "    </tr>\n",
       "    <tr>\n",
       "      <th>minutes played</th>\n",
       "      <td>10754.0</td>\n",
       "      <td>2.470789e+03</td>\n",
       "      <td>2.021703e+03</td>\n",
       "      <td>0.0</td>\n",
       "      <td>660.000000</td>\n",
       "      <td>2.101500e+03</td>\n",
       "      <td>3.968000e+03</td>\n",
       "      <td>9.510000e+03</td>\n",
       "    </tr>\n",
       "    <tr>\n",
       "      <th>days_injured</th>\n",
       "      <td>10754.0</td>\n",
       "      <td>1.179617e+02</td>\n",
       "      <td>1.752068e+02</td>\n",
       "      <td>0.0</td>\n",
       "      <td>0.000000</td>\n",
       "      <td>3.700000e+01</td>\n",
       "      <td>1.810000e+02</td>\n",
       "      <td>2.349000e+03</td>\n",
       "    </tr>\n",
       "    <tr>\n",
       "      <th>games_injured</th>\n",
       "      <td>10754.0</td>\n",
       "      <td>1.582630e+01</td>\n",
       "      <td>2.338361e+01</td>\n",
       "      <td>0.0</td>\n",
       "      <td>0.000000</td>\n",
       "      <td>5.000000e+00</td>\n",
       "      <td>2.400000e+01</td>\n",
       "      <td>3.390000e+02</td>\n",
       "    </tr>\n",
       "    <tr>\n",
       "      <th>award</th>\n",
       "      <td>10754.0</td>\n",
       "      <td>1.960759e+00</td>\n",
       "      <td>3.743936e+00</td>\n",
       "      <td>0.0</td>\n",
       "      <td>0.000000</td>\n",
       "      <td>1.000000e+00</td>\n",
       "      <td>2.000000e+00</td>\n",
       "      <td>9.200000e+01</td>\n",
       "    </tr>\n",
       "    <tr>\n",
       "      <th>current_value</th>\n",
       "      <td>10754.0</td>\n",
       "      <td>3.622971e+06</td>\n",
       "      <td>9.095410e+06</td>\n",
       "      <td>0.0</td>\n",
       "      <td>300000.000000</td>\n",
       "      <td>8.000000e+05</td>\n",
       "      <td>3.000000e+06</td>\n",
       "      <td>1.800000e+08</td>\n",
       "    </tr>\n",
       "    <tr>\n",
       "      <th>highest_value</th>\n",
       "      <td>10754.0</td>\n",
       "      <td>6.152606e+06</td>\n",
       "      <td>1.338988e+07</td>\n",
       "      <td>0.0</td>\n",
       "      <td>450000.000000</td>\n",
       "      <td>1.500000e+06</td>\n",
       "      <td>5.000000e+06</td>\n",
       "      <td>2.000000e+08</td>\n",
       "    </tr>\n",
       "    <tr>\n",
       "      <th>position_encoded</th>\n",
       "      <td>10754.0</td>\n",
       "      <td>2.713223e+00</td>\n",
       "      <td>9.863563e-01</td>\n",
       "      <td>1.0</td>\n",
       "      <td>2.000000</td>\n",
       "      <td>3.000000e+00</td>\n",
       "      <td>4.000000e+00</td>\n",
       "      <td>4.000000e+00</td>\n",
       "    </tr>\n",
       "    <tr>\n",
       "      <th>winger</th>\n",
       "      <td>10754.0</td>\n",
       "      <td>3.075135e-01</td>\n",
       "      <td>4.614854e-01</td>\n",
       "      <td>0.0</td>\n",
       "      <td>0.000000</td>\n",
       "      <td>0.000000e+00</td>\n",
       "      <td>1.000000e+00</td>\n",
       "      <td>1.000000e+00</td>\n",
       "    </tr>\n",
       "  </tbody>\n",
       "</table>\n",
       "</div>"
      ],
      "text/plain": [
       "                       count          mean           std    min  \\\n",
       "height               10754.0  1.812404e+02  6.969818e+00  156.0   \n",
       "age                  10754.0  2.604190e+01  4.777629e+00   15.0   \n",
       "appearance           10754.0  3.640701e+01  2.652654e+01    0.0   \n",
       "goals                10754.0  1.255543e-01  2.355851e-01    0.0   \n",
       "assists              10754.0  8.697765e-02  1.433513e-01    0.0   \n",
       "yellow cards         10754.0  1.897572e-01  4.323879e-01    0.0   \n",
       "second yellow cards  10754.0  4.665667e-03  2.523200e-02    0.0   \n",
       "red cards            10754.0  6.826070e-03  8.114266e-02    0.0   \n",
       "goals conceded       10754.0  1.316555e-01  4.423355e-01    0.0   \n",
       "clean sheets         10754.0  4.488090e-02  9.244373e-01    0.0   \n",
       "minutes played       10754.0  2.470789e+03  2.021703e+03    0.0   \n",
       "days_injured         10754.0  1.179617e+02  1.752068e+02    0.0   \n",
       "games_injured        10754.0  1.582630e+01  2.338361e+01    0.0   \n",
       "award                10754.0  1.960759e+00  3.743936e+00    0.0   \n",
       "current_value        10754.0  3.622971e+06  9.095410e+06    0.0   \n",
       "highest_value        10754.0  6.152606e+06  1.338988e+07    0.0   \n",
       "position_encoded     10754.0  2.713223e+00  9.863563e-01    1.0   \n",
       "winger               10754.0  3.075135e-01  4.614854e-01    0.0   \n",
       "\n",
       "                               25%           50%           75%           max  \n",
       "height                  176.000000  1.812404e+02  1.860000e+02  2.060000e+02  \n",
       "age                      22.000000  2.600000e+01  2.900000e+01  4.300000e+01  \n",
       "appearance               12.000000  3.500000e+01  5.900000e+01  1.070000e+02  \n",
       "goals                     0.000000  4.596918e-02  1.722625e-01  1.125000e+01  \n",
       "assists                   0.000000  4.077323e-02  1.331361e-01  4.000000e+00  \n",
       "yellow cards              0.053191  1.502504e-01  2.482759e-01  3.000000e+01  \n",
       "second yellow cards       0.000000  0.000000e+00  0.000000e+00  1.000000e+00  \n",
       "red cards                 0.000000  0.000000e+00  0.000000e+00  6.923077e+00  \n",
       "goals conceded            0.000000  0.000000e+00  0.000000e+00  9.000000e+00  \n",
       "clean sheets              0.000000  0.000000e+00  0.000000e+00  9.000000e+01  \n",
       "minutes played          660.000000  2.101500e+03  3.968000e+03  9.510000e+03  \n",
       "days_injured              0.000000  3.700000e+01  1.810000e+02  2.349000e+03  \n",
       "games_injured             0.000000  5.000000e+00  2.400000e+01  3.390000e+02  \n",
       "award                     0.000000  1.000000e+00  2.000000e+00  9.200000e+01  \n",
       "current_value        300000.000000  8.000000e+05  3.000000e+06  1.800000e+08  \n",
       "highest_value        450000.000000  1.500000e+06  5.000000e+06  2.000000e+08  \n",
       "position_encoded          2.000000  3.000000e+00  4.000000e+00  4.000000e+00  \n",
       "winger                    0.000000  0.000000e+00  1.000000e+00  1.000000e+00  "
      ]
     },
     "execution_count": 24,
     "metadata": {},
     "output_type": "execute_result"
    }
   ],
   "source": [
    "df.describe().T"
   ]
  },
  {
   "cell_type": "code",
   "execution_count": null,
   "id": "aa16df21",
   "metadata": {},
   "outputs": [],
   "source": []
  },
  {
   "cell_type": "code",
   "execution_count": 25,
   "id": "01287962-8077-4c01-8d1d-5f8aed6cb37a",
   "metadata": {},
   "outputs": [],
   "source": [
    "# go back to 6th dimention --> Completeness"
   ]
  },
  {
   "cell_type": "markdown",
   "id": "f7cee10f-0af8-44e5-b595-8e965294daad",
   "metadata": {},
   "source": [
    "### Correcting errors\n",
    "\n",
    "-------------------"
   ]
  },
  {
   "cell_type": "code",
   "execution_count": null,
   "id": "06273b88-a169-42e8-81f5-5d71cb3f9c21",
   "metadata": {},
   "outputs": [],
   "source": []
  },
  {
   "cell_type": "code",
   "execution_count": 26,
   "id": "f1d95da5-a3ba-473a-8243-aa177cadae20",
   "metadata": {},
   "outputs": [],
   "source": [
    "# go back to 7th dimension Accuracy "
   ]
  },
  {
   "cell_type": "markdown",
   "id": "5ecc7dbb-6867-44cf-8f99-1b969a80be40",
   "metadata": {},
   "source": [
    "### Dealing with outliers:"
   ]
  },
  {
   "attachments": {},
   "cell_type": "markdown",
   "id": "88347887-4bdf-48af-9486-cb8fe80c97af",
   "metadata": {},
   "source": [
    "**How to remove Outliers?**\n",
    "Most of the ways to deal with outliers are similar to the methods of missing values like deleting rows, transforming them, binning them, treat them as a separate group, imputing values and other statistical methods. Here, we will discuss the common techniques used to deal with outliers:\n",
    "\n",
    "1. Deleting rows: We delete outlier values if it is due to data entry error, data processing error or outlier rows are very small in numbers. We can also use trimming at both ends to remove outliers.\n",
    "\n",
    "2. Imputing: Like imputation of missing values, we can also impute outliers. We can use mean, median, mode imputation methods. Before imputing values, we should analyse if it is natural outlier or artificial. If it is artificial, we can go with imputing values. We can also use statistical model to predict values of outlier rows and after that we can impute it with predicted values.\n",
    "\n",
    "3. Treat separately: If there are significant number of outliers, we should treat them separately in the statistical model. One of the approach is to treat both groups as two different groups and build individual model for both groups and then combine the output.\n"
   ]
  },
  {
   "cell_type": "code",
   "execution_count": 27,
   "id": "25a585f0-2b9c-42fa-bf21-cacc6aa3be3f",
   "metadata": {},
   "outputs": [
    {
     "data": {
      "text/plain": [
       "6500000"
      ]
     },
     "execution_count": 27,
     "metadata": {},
     "output_type": "execute_result"
    }
   ],
   "source": [
    "df[df[\"appearance\"] == 0][\"current_value\"].max()"
   ]
  },
  {
   "cell_type": "code",
   "execution_count": 28,
   "id": "8e70562f",
   "metadata": {},
   "outputs": [
    {
     "data": {
      "text/html": [
       "<div>\n",
       "<style scoped>\n",
       "    .dataframe tbody tr th:only-of-type {\n",
       "        vertical-align: middle;\n",
       "    }\n",
       "\n",
       "    .dataframe tbody tr th {\n",
       "        vertical-align: top;\n",
       "    }\n",
       "\n",
       "    .dataframe thead th {\n",
       "        text-align: right;\n",
       "    }\n",
       "</style>\n",
       "<table border=\"1\" class=\"dataframe\">\n",
       "  <thead>\n",
       "    <tr style=\"text-align: right;\">\n",
       "      <th></th>\n",
       "      <th>player</th>\n",
       "      <th>team</th>\n",
       "      <th>name</th>\n",
       "      <th>position</th>\n",
       "      <th>height</th>\n",
       "      <th>age</th>\n",
       "      <th>appearance</th>\n",
       "      <th>goals</th>\n",
       "      <th>assists</th>\n",
       "      <th>yellow cards</th>\n",
       "      <th>...</th>\n",
       "      <th>goals conceded</th>\n",
       "      <th>clean sheets</th>\n",
       "      <th>minutes played</th>\n",
       "      <th>days_injured</th>\n",
       "      <th>games_injured</th>\n",
       "      <th>award</th>\n",
       "      <th>current_value</th>\n",
       "      <th>highest_value</th>\n",
       "      <th>position_encoded</th>\n",
       "      <th>winger</th>\n",
       "    </tr>\n",
       "  </thead>\n",
       "  <tbody>\n",
       "    <tr>\n",
       "      <th>3190</th>\n",
       "      <td>/praxedes/profil/spieler/574765</td>\n",
       "      <td>Red Bull Bragantino</td>\n",
       "      <td>Praxedes</td>\n",
       "      <td>midfield-CentralMidfield</td>\n",
       "      <td>186.0</td>\n",
       "      <td>21.0</td>\n",
       "      <td>0</td>\n",
       "      <td>0.0</td>\n",
       "      <td>0.0</td>\n",
       "      <td>0.0</td>\n",
       "      <td>...</td>\n",
       "      <td>0.0</td>\n",
       "      <td>0.0</td>\n",
       "      <td>0</td>\n",
       "      <td>104</td>\n",
       "      <td>10</td>\n",
       "      <td>0</td>\n",
       "      <td>6500000</td>\n",
       "      <td>6500000</td>\n",
       "      <td>3</td>\n",
       "      <td>0</td>\n",
       "    </tr>\n",
       "  </tbody>\n",
       "</table>\n",
       "<p>1 rows × 22 columns</p>\n",
       "</div>"
      ],
      "text/plain": [
       "                               player                 team      name  \\\n",
       "3190  /praxedes/profil/spieler/574765  Red Bull Bragantino  Praxedes   \n",
       "\n",
       "                      position  height   age  appearance  goals  assists  \\\n",
       "3190  midfield-CentralMidfield   186.0  21.0           0    0.0      0.0   \n",
       "\n",
       "      yellow cards  ...  goals conceded  clean sheets  minutes played  \\\n",
       "3190           0.0  ...             0.0           0.0               0   \n",
       "\n",
       "      days_injured  games_injured  award  current_value  highest_value  \\\n",
       "3190           104             10      0        6500000        6500000   \n",
       "\n",
       "      position_encoded  winger  \n",
       "3190                 3       0  \n",
       "\n",
       "[1 rows x 22 columns]"
      ]
     },
     "execution_count": 28,
     "metadata": {},
     "output_type": "execute_result"
    }
   ],
   "source": [
    "df[(df[\"appearance\"] == 0) & (df[\"current_value\"] == 6500000)]"
   ]
  },
  {
   "cell_type": "code",
   "execution_count": 29,
   "id": "9597b6d3",
   "metadata": {},
   "outputs": [
    {
     "data": {
      "text/html": [
       "<div>\n",
       "<style scoped>\n",
       "    .dataframe tbody tr th:only-of-type {\n",
       "        vertical-align: middle;\n",
       "    }\n",
       "\n",
       "    .dataframe tbody tr th {\n",
       "        vertical-align: top;\n",
       "    }\n",
       "\n",
       "    .dataframe thead th {\n",
       "        text-align: right;\n",
       "    }\n",
       "</style>\n",
       "<table border=\"1\" class=\"dataframe\">\n",
       "  <thead>\n",
       "    <tr style=\"text-align: right;\">\n",
       "      <th></th>\n",
       "      <th>player</th>\n",
       "      <th>team</th>\n",
       "      <th>name</th>\n",
       "      <th>position</th>\n",
       "      <th>height</th>\n",
       "      <th>age</th>\n",
       "      <th>appearance</th>\n",
       "      <th>goals</th>\n",
       "      <th>assists</th>\n",
       "      <th>yellow cards</th>\n",
       "      <th>...</th>\n",
       "      <th>goals conceded</th>\n",
       "      <th>clean sheets</th>\n",
       "      <th>minutes played</th>\n",
       "      <th>days_injured</th>\n",
       "      <th>games_injured</th>\n",
       "      <th>award</th>\n",
       "      <th>current_value</th>\n",
       "      <th>highest_value</th>\n",
       "      <th>position_encoded</th>\n",
       "      <th>winger</th>\n",
       "    </tr>\n",
       "  </thead>\n",
       "  <tbody>\n",
       "    <tr>\n",
       "      <th>29</th>\n",
       "      <td>/mason-greenwood/profil/spieler/532826</td>\n",
       "      <td>Manchester United</td>\n",
       "      <td>Mason Greenwood</td>\n",
       "      <td>Attack-RightWinger</td>\n",
       "      <td>181.000000</td>\n",
       "      <td>21.000000</td>\n",
       "      <td>24</td>\n",
       "      <td>0.317647</td>\n",
       "      <td>0.105882</td>\n",
       "      <td>0.105882</td>\n",
       "      <td>...</td>\n",
       "      <td>0.0</td>\n",
       "      <td>0.0</td>\n",
       "      <td>1700</td>\n",
       "      <td>135</td>\n",
       "      <td>12</td>\n",
       "      <td>0</td>\n",
       "      <td>0</td>\n",
       "      <td>50000000</td>\n",
       "      <td>4</td>\n",
       "      <td>1</td>\n",
       "    </tr>\n",
       "    <tr>\n",
       "      <th>406</th>\n",
       "      <td>/sven-botman/profil/spieler/361093</td>\n",
       "      <td>Newcastle United</td>\n",
       "      <td>Sven Botman</td>\n",
       "      <td>Defender Centre-Back</td>\n",
       "      <td>195.000000</td>\n",
       "      <td>23.000000</td>\n",
       "      <td>76</td>\n",
       "      <td>0.041159</td>\n",
       "      <td>0.013720</td>\n",
       "      <td>0.123476</td>\n",
       "      <td>...</td>\n",
       "      <td>0.0</td>\n",
       "      <td>0.0</td>\n",
       "      <td>6560</td>\n",
       "      <td>118</td>\n",
       "      <td>19</td>\n",
       "      <td>4</td>\n",
       "      <td>0</td>\n",
       "      <td>0</td>\n",
       "      <td>2</td>\n",
       "      <td>0</td>\n",
       "    </tr>\n",
       "    <tr>\n",
       "      <th>407</th>\n",
       "      <td>/fabian-schar/profil/spieler/135343</td>\n",
       "      <td>Newcastle United</td>\n",
       "      <td>Fabian Schär</td>\n",
       "      <td>Defender Centre-Back</td>\n",
       "      <td>186.000000</td>\n",
       "      <td>31.000000</td>\n",
       "      <td>67</td>\n",
       "      <td>0.045678</td>\n",
       "      <td>0.076129</td>\n",
       "      <td>0.182710</td>\n",
       "      <td>...</td>\n",
       "      <td>0.0</td>\n",
       "      <td>0.0</td>\n",
       "      <td>5911</td>\n",
       "      <td>285</td>\n",
       "      <td>30</td>\n",
       "      <td>3</td>\n",
       "      <td>0</td>\n",
       "      <td>0</td>\n",
       "      <td>2</td>\n",
       "      <td>0</td>\n",
       "    </tr>\n",
       "    <tr>\n",
       "      <th>408</th>\n",
       "      <td>/jamaal-lascelles/profil/spieler/183318</td>\n",
       "      <td>Newcastle United</td>\n",
       "      <td>Jamaal Lascelles</td>\n",
       "      <td>Defender Centre-Back</td>\n",
       "      <td>188.000000</td>\n",
       "      <td>29.000000</td>\n",
       "      <td>38</td>\n",
       "      <td>0.068992</td>\n",
       "      <td>0.000000</td>\n",
       "      <td>0.310464</td>\n",
       "      <td>...</td>\n",
       "      <td>0.0</td>\n",
       "      <td>0.0</td>\n",
       "      <td>2609</td>\n",
       "      <td>418</td>\n",
       "      <td>57</td>\n",
       "      <td>2</td>\n",
       "      <td>0</td>\n",
       "      <td>0</td>\n",
       "      <td>2</td>\n",
       "      <td>0</td>\n",
       "    </tr>\n",
       "    <tr>\n",
       "      <th>409</th>\n",
       "      <td>/matt-targett/profil/spieler/250478</td>\n",
       "      <td>Newcastle United</td>\n",
       "      <td>Matt Targett</td>\n",
       "      <td>Defender Left-Back</td>\n",
       "      <td>183.000000</td>\n",
       "      <td>27.000000</td>\n",
       "      <td>54</td>\n",
       "      <td>0.023747</td>\n",
       "      <td>0.023747</td>\n",
       "      <td>0.094987</td>\n",
       "      <td>...</td>\n",
       "      <td>0.0</td>\n",
       "      <td>0.0</td>\n",
       "      <td>3790</td>\n",
       "      <td>380</td>\n",
       "      <td>66</td>\n",
       "      <td>0</td>\n",
       "      <td>0</td>\n",
       "      <td>0</td>\n",
       "      <td>2</td>\n",
       "      <td>1</td>\n",
       "    </tr>\n",
       "    <tr>\n",
       "      <th>...</th>\n",
       "      <td>...</td>\n",
       "      <td>...</td>\n",
       "      <td>...</td>\n",
       "      <td>...</td>\n",
       "      <td>...</td>\n",
       "      <td>...</td>\n",
       "      <td>...</td>\n",
       "      <td>...</td>\n",
       "      <td>...</td>\n",
       "      <td>...</td>\n",
       "      <td>...</td>\n",
       "      <td>...</td>\n",
       "      <td>...</td>\n",
       "      <td>...</td>\n",
       "      <td>...</td>\n",
       "      <td>...</td>\n",
       "      <td>...</td>\n",
       "      <td>...</td>\n",
       "      <td>...</td>\n",
       "      <td>...</td>\n",
       "      <td>...</td>\n",
       "    </tr>\n",
       "    <tr>\n",
       "      <th>10581</th>\n",
       "      <td>/zahi-addis/profil/spieler/1069563</td>\n",
       "      <td>Brisbane Roar</td>\n",
       "      <td>Zahi Addis</td>\n",
       "      <td>Defender Left-Back</td>\n",
       "      <td>181.240353</td>\n",
       "      <td>19.000000</td>\n",
       "      <td>0</td>\n",
       "      <td>0.000000</td>\n",
       "      <td>0.000000</td>\n",
       "      <td>0.000000</td>\n",
       "      <td>...</td>\n",
       "      <td>0.0</td>\n",
       "      <td>0.0</td>\n",
       "      <td>0</td>\n",
       "      <td>0</td>\n",
       "      <td>0</td>\n",
       "      <td>0</td>\n",
       "      <td>0</td>\n",
       "      <td>0</td>\n",
       "      <td>2</td>\n",
       "      <td>1</td>\n",
       "    </tr>\n",
       "    <tr>\n",
       "      <th>10586</th>\n",
       "      <td>/james-murphy/profil/spieler/1069560</td>\n",
       "      <td>Brisbane Roar</td>\n",
       "      <td>James Murphy</td>\n",
       "      <td>midfield</td>\n",
       "      <td>181.240353</td>\n",
       "      <td>17.000000</td>\n",
       "      <td>0</td>\n",
       "      <td>0.000000</td>\n",
       "      <td>0.000000</td>\n",
       "      <td>0.000000</td>\n",
       "      <td>...</td>\n",
       "      <td>0.0</td>\n",
       "      <td>0.0</td>\n",
       "      <td>0</td>\n",
       "      <td>0</td>\n",
       "      <td>0</td>\n",
       "      <td>0</td>\n",
       "      <td>0</td>\n",
       "      <td>0</td>\n",
       "      <td>3</td>\n",
       "      <td>0</td>\n",
       "    </tr>\n",
       "    <tr>\n",
       "      <th>10587</th>\n",
       "      <td>/riley-gill/profil/spieler/1069561</td>\n",
       "      <td>Brisbane Roar</td>\n",
       "      <td>Riley Gill</td>\n",
       "      <td>midfield</td>\n",
       "      <td>181.240353</td>\n",
       "      <td>26.041903</td>\n",
       "      <td>0</td>\n",
       "      <td>0.000000</td>\n",
       "      <td>0.000000</td>\n",
       "      <td>0.000000</td>\n",
       "      <td>...</td>\n",
       "      <td>0.0</td>\n",
       "      <td>0.0</td>\n",
       "      <td>0</td>\n",
       "      <td>0</td>\n",
       "      <td>0</td>\n",
       "      <td>0</td>\n",
       "      <td>0</td>\n",
       "      <td>0</td>\n",
       "      <td>3</td>\n",
       "      <td>0</td>\n",
       "    </tr>\n",
       "    <tr>\n",
       "      <th>10686</th>\n",
       "      <td>/corey-hollman/profil/spieler/890186</td>\n",
       "      <td>Sydney FC</td>\n",
       "      <td>Corey Hollman</td>\n",
       "      <td>midfield-DefensiveMidfield</td>\n",
       "      <td>181.240353</td>\n",
       "      <td>19.000000</td>\n",
       "      <td>1</td>\n",
       "      <td>0.000000</td>\n",
       "      <td>0.000000</td>\n",
       "      <td>0.000000</td>\n",
       "      <td>...</td>\n",
       "      <td>0.0</td>\n",
       "      <td>0.0</td>\n",
       "      <td>3</td>\n",
       "      <td>0</td>\n",
       "      <td>0</td>\n",
       "      <td>0</td>\n",
       "      <td>0</td>\n",
       "      <td>0</td>\n",
       "      <td>3</td>\n",
       "      <td>0</td>\n",
       "    </tr>\n",
       "    <tr>\n",
       "      <th>10717</th>\n",
       "      <td>/joshua-mori/profil/spieler/541181</td>\n",
       "      <td>Adelaide United</td>\n",
       "      <td>Joshua Mori</td>\n",
       "      <td>Attack</td>\n",
       "      <td>180.000000</td>\n",
       "      <td>26.000000</td>\n",
       "      <td>1</td>\n",
       "      <td>0.000000</td>\n",
       "      <td>0.000000</td>\n",
       "      <td>0.000000</td>\n",
       "      <td>...</td>\n",
       "      <td>0.0</td>\n",
       "      <td>0.0</td>\n",
       "      <td>0</td>\n",
       "      <td>0</td>\n",
       "      <td>0</td>\n",
       "      <td>0</td>\n",
       "      <td>0</td>\n",
       "      <td>0</td>\n",
       "      <td>4</td>\n",
       "      <td>0</td>\n",
       "    </tr>\n",
       "  </tbody>\n",
       "</table>\n",
       "<p>167 rows × 22 columns</p>\n",
       "</div>"
      ],
      "text/plain": [
       "                                        player               team  \\\n",
       "29      /mason-greenwood/profil/spieler/532826  Manchester United   \n",
       "406         /sven-botman/profil/spieler/361093   Newcastle United   \n",
       "407        /fabian-schar/profil/spieler/135343   Newcastle United   \n",
       "408    /jamaal-lascelles/profil/spieler/183318   Newcastle United   \n",
       "409        /matt-targett/profil/spieler/250478   Newcastle United   \n",
       "...                                        ...                ...   \n",
       "10581       /zahi-addis/profil/spieler/1069563      Brisbane Roar   \n",
       "10586     /james-murphy/profil/spieler/1069560      Brisbane Roar   \n",
       "10587       /riley-gill/profil/spieler/1069561      Brisbane Roar   \n",
       "10686     /corey-hollman/profil/spieler/890186          Sydney FC   \n",
       "10717       /joshua-mori/profil/spieler/541181    Adelaide United   \n",
       "\n",
       "                   name                    position      height        age  \\\n",
       "29      Mason Greenwood          Attack-RightWinger  181.000000  21.000000   \n",
       "406         Sven Botman        Defender Centre-Back  195.000000  23.000000   \n",
       "407        Fabian Schär        Defender Centre-Back  186.000000  31.000000   \n",
       "408    Jamaal Lascelles        Defender Centre-Back  188.000000  29.000000   \n",
       "409        Matt Targett          Defender Left-Back  183.000000  27.000000   \n",
       "...                 ...                         ...         ...        ...   \n",
       "10581        Zahi Addis          Defender Left-Back  181.240353  19.000000   \n",
       "10586      James Murphy                    midfield  181.240353  17.000000   \n",
       "10587        Riley Gill                    midfield  181.240353  26.041903   \n",
       "10686     Corey Hollman  midfield-DefensiveMidfield  181.240353  19.000000   \n",
       "10717       Joshua Mori                      Attack  180.000000  26.000000   \n",
       "\n",
       "       appearance     goals   assists  yellow cards  ...  goals conceded  \\\n",
       "29             24  0.317647  0.105882      0.105882  ...             0.0   \n",
       "406            76  0.041159  0.013720      0.123476  ...             0.0   \n",
       "407            67  0.045678  0.076129      0.182710  ...             0.0   \n",
       "408            38  0.068992  0.000000      0.310464  ...             0.0   \n",
       "409            54  0.023747  0.023747      0.094987  ...             0.0   \n",
       "...           ...       ...       ...           ...  ...             ...   \n",
       "10581           0  0.000000  0.000000      0.000000  ...             0.0   \n",
       "10586           0  0.000000  0.000000      0.000000  ...             0.0   \n",
       "10587           0  0.000000  0.000000      0.000000  ...             0.0   \n",
       "10686           1  0.000000  0.000000      0.000000  ...             0.0   \n",
       "10717           1  0.000000  0.000000      0.000000  ...             0.0   \n",
       "\n",
       "       clean sheets  minutes played  days_injured  games_injured  award  \\\n",
       "29              0.0            1700           135             12      0   \n",
       "406             0.0            6560           118             19      4   \n",
       "407             0.0            5911           285             30      3   \n",
       "408             0.0            2609           418             57      2   \n",
       "409             0.0            3790           380             66      0   \n",
       "...             ...             ...           ...            ...    ...   \n",
       "10581           0.0               0             0              0      0   \n",
       "10586           0.0               0             0              0      0   \n",
       "10587           0.0               0             0              0      0   \n",
       "10686           0.0               3             0              0      0   \n",
       "10717           0.0               0             0              0      0   \n",
       "\n",
       "       current_value  highest_value  position_encoded  winger  \n",
       "29                 0       50000000                 4       1  \n",
       "406                0              0                 2       0  \n",
       "407                0              0                 2       0  \n",
       "408                0              0                 2       0  \n",
       "409                0              0                 2       1  \n",
       "...              ...            ...               ...     ...  \n",
       "10581              0              0                 2       1  \n",
       "10586              0              0                 3       0  \n",
       "10587              0              0                 3       0  \n",
       "10686              0              0                 3       0  \n",
       "10717              0              0                 4       0  \n",
       "\n",
       "[167 rows x 22 columns]"
      ]
     },
     "execution_count": 29,
     "metadata": {},
     "output_type": "execute_result"
    }
   ],
   "source": [
    "df[(df['current_value'] ==0) ]"
   ]
  },
  {
   "cell_type": "code",
   "execution_count": 30,
   "id": "5f03124f",
   "metadata": {},
   "outputs": [
    {
     "data": {
      "text/plain": [
       "(10754, 22)"
      ]
     },
     "execution_count": 30,
     "metadata": {},
     "output_type": "execute_result"
    }
   ],
   "source": [
    "df.shape"
   ]
  },
  {
   "cell_type": "code",
   "execution_count": 31,
   "id": "d98d60f1",
   "metadata": {},
   "outputs": [],
   "source": [
    "#df.drop(df[(df['current_value'] ==0) & (df[\"highest_value\"] == 0)].index,inplace=True)"
   ]
  },
  {
   "cell_type": "code",
   "execution_count": 32,
   "id": "20b3934f",
   "metadata": {},
   "outputs": [
    {
     "data": {
      "text/plain": [
       "(10754, 22)"
      ]
     },
     "execution_count": 32,
     "metadata": {},
     "output_type": "execute_result"
    }
   ],
   "source": [
    "df.shape"
   ]
  },
  {
   "cell_type": "markdown",
   "id": "ce135b2e",
   "metadata": {},
   "source": [
    "## Preprocess the Data"
   ]
  },
  {
   "cell_type": "code",
   "execution_count": 33,
   "id": "4e2640de",
   "metadata": {},
   "outputs": [],
   "source": [
    "df_model = df.copy()"
   ]
  },
  {
   "cell_type": "code",
   "execution_count": 34,
   "id": "865ea7d2",
   "metadata": {},
   "outputs": [],
   "source": [
    "df_model.drop(columns=[\"name\",\"player\"],inplace=True)"
   ]
  },
  {
   "cell_type": "code",
   "execution_count": 35,
   "id": "23e552d2",
   "metadata": {},
   "outputs": [
    {
     "name": "stdout",
     "output_type": "stream",
     "text": [
      "Categorical columns:  ['team', 'position']\n",
      "Numerical columns:  ['height', 'age', 'appearance', 'goals', 'assists', 'yellow cards', 'second yellow cards', 'red cards', 'goals conceded', 'clean sheets', 'minutes played', 'days_injured', 'games_injured', 'award', 'current_value', 'highest_value', 'position_encoded', 'winger']\n"
     ]
    }
   ],
   "source": [
    "# Separate categorical and numerical columns\n",
    "categorical_columns = df_model.select_dtypes(include=['object']).columns.tolist()\n",
    "numerical_columns = df_model.select_dtypes(include=['int64', 'float64']).columns.tolist()\n",
    "\n",
    "\n",
    "# Display the categorical and numerical columns\n",
    "print(\"Categorical columns: \", categorical_columns)\n",
    "print(\"Numerical columns: \", numerical_columns)"
   ]
  },
  {
   "cell_type": "markdown",
   "id": "7a5029bc",
   "metadata": {},
   "source": [
    "#### 2. Feature engineering"
   ]
  },
  {
   "cell_type": "markdown",
   "id": "4a94a447",
   "metadata": {},
   "source": [
    "1. Feature scaling\n",
    "2. Aggregation\n",
    "3. One hot coding"
   ]
  },
  {
   "cell_type": "code",
   "execution_count": 36,
   "id": "b6550dee",
   "metadata": {},
   "outputs": [
    {
     "data": {
      "text/plain": [
       "(10754, 20)"
      ]
     },
     "execution_count": 36,
     "metadata": {},
     "output_type": "execute_result"
    }
   ],
   "source": [
    "df_model.shape"
   ]
  },
  {
   "cell_type": "code",
   "execution_count": 37,
   "id": "e331bab1",
   "metadata": {},
   "outputs": [
    {
     "data": {
      "text/plain": [
       "['team', 'position']"
      ]
     },
     "execution_count": 37,
     "metadata": {},
     "output_type": "execute_result"
    }
   ],
   "source": [
    "categorical_columns"
   ]
  },
  {
   "cell_type": "code",
   "execution_count": 38,
   "id": "50d7479a",
   "metadata": {},
   "outputs": [],
   "source": [
    "df_model=pd.get_dummies(df_model,columns=categorical_columns)"
   ]
  },
  {
   "cell_type": "code",
   "execution_count": 39,
   "id": "5ccc0e50",
   "metadata": {},
   "outputs": [
    {
     "data": {
      "text/plain": [
       "(10754, 408)"
      ]
     },
     "execution_count": 39,
     "metadata": {},
     "output_type": "execute_result"
    }
   ],
   "source": [
    "df_model.shape"
   ]
  },
  {
   "cell_type": "code",
   "execution_count": 40,
   "id": "953bbc99",
   "metadata": {},
   "outputs": [
    {
     "name": "stdout",
     "output_type": "stream",
     "text": [
      "current_value_category\n",
      "low_value     3754\n",
      "High_value    3531\n",
      "good_value    3469\n",
      "Name: count, dtype: int64\n"
     ]
    }
   ],
   "source": [
    "# Calculate the 35th and 75th percentiles of the price\n",
    "p35 = df_model['current_value'].quantile(0.35)\n",
    "p75 = df_model['current_value'].quantile(0.70)\n",
    "\n",
    "# Function to categorize prices\n",
    "def categorize_price(price):\n",
    "    if price < p35:\n",
    "        return 'low_value'\n",
    "    elif price < p75:\n",
    "        return 'good_value'\n",
    "    else:\n",
    "        return 'High_value'\n",
    "\n",
    "# Apply the function to create a new column\n",
    "df_model['current_value_category'] = df_model['current_value'].apply(categorize_price)\n",
    "\n",
    "df_model.drop('current_value', axis=1, inplace=True)\n",
    "\n",
    "# Verify the distribution of the new categories\n",
    "print(df_model['current_value_category'].value_counts())"
   ]
  },
  {
   "cell_type": "code",
   "execution_count": 41,
   "id": "3245a8c7",
   "metadata": {},
   "outputs": [
    {
     "data": {
      "text/plain": [
       "(450000.0, 2000000.0)"
      ]
     },
     "execution_count": 41,
     "metadata": {},
     "output_type": "execute_result"
    }
   ],
   "source": [
    "p35,p75"
   ]
  },
  {
   "cell_type": "code",
   "execution_count": 42,
   "id": "d92caade",
   "metadata": {},
   "outputs": [],
   "source": [
    "encoder = LabelEncoder()\n",
    "df_model['current_value_category_encoded'] = encoder.fit_transform(df_model['current_value_category'])  "
   ]
  },
  {
   "cell_type": "code",
   "execution_count": 43,
   "id": "05ea54ba",
   "metadata": {},
   "outputs": [
    {
     "data": {
      "text/plain": [
       "0        0\n",
       "1        1\n",
       "2        1\n",
       "3        0\n",
       "4        0\n",
       "        ..\n",
       "10749    2\n",
       "10750    2\n",
       "10751    2\n",
       "10752    2\n",
       "10753    2\n",
       "Name: current_value_category_encoded, Length: 10754, dtype: int64"
      ]
     },
     "execution_count": 43,
     "metadata": {},
     "output_type": "execute_result"
    }
   ],
   "source": [
    "df_model[\"current_value_category_encoded\"]"
   ]
  },
  {
   "cell_type": "markdown",
   "id": "5383c66d",
   "metadata": {},
   "source": [
    "#### 3. Feature selection"
   ]
  },
  {
   "cell_type": "code",
   "execution_count": 44,
   "id": "c062e5c7",
   "metadata": {},
   "outputs": [
    {
     "name": "stdout",
     "output_type": "stream",
     "text": [
      "current_value_category_encoded    1.000000\n",
      "position_Goalkeeper               0.176018\n",
      "goals conceded                    0.131053\n",
      "position_midfield                 0.098383\n",
      "position_Attack                   0.083759\n",
      "                                    ...   \n",
      "games_injured                    -0.232209\n",
      "award                            -0.236105\n",
      "highest_value                    -0.450568\n",
      "minutes played                   -0.504709\n",
      "appearance                       -0.534738\n",
      "Name: current_value_category_encoded, Length: 408, dtype: float64\n"
     ]
    }
   ],
   "source": [
    "correlation= df_model.corr(numeric_only=True)\n",
    "print(correlation['current_value_category_encoded'].sort_values(ascending=False))"
   ]
  },
  {
   "cell_type": "code",
   "execution_count": 118,
   "id": "518eae40",
   "metadata": {},
   "outputs": [],
   "source": [
    "selected_features=['appearance', 'minutes played','award', 'highest_value']"
   ]
  },
  {
   "cell_type": "code",
   "execution_count": 119,
   "id": "34edfc64",
   "metadata": {},
   "outputs": [],
   "source": [
    "df_model = df_model[selected_features]"
   ]
  },
  {
   "cell_type": "code",
   "execution_count": 120,
   "id": "260ec4ef",
   "metadata": {},
   "outputs": [
    {
     "data": {
      "text/plain": [
       "(10754, 4)"
      ]
     },
     "execution_count": 120,
     "metadata": {},
     "output_type": "execute_result"
    }
   ],
   "source": [
    "df_model.shape"
   ]
  },
  {
   "cell_type": "markdown",
   "id": "d184f3cd",
   "metadata": {},
   "source": [
    "#### 4. Prepare train and test data"
   ]
  },
  {
   "cell_type": "code",
   "execution_count": 121,
   "id": "e88f5599",
   "metadata": {},
   "outputs": [],
   "source": [
    "# Prepare data\n",
    "X = df_model\n",
    "\n",
    "\n",
    "\n",
    "# sacle the data\n",
    "scaler = StandardScaler()\n",
    "X_scaled = scaler.fit_transform(X)"
   ]
  },
  {
   "cell_type": "code",
   "execution_count": 122,
   "id": "d91e16d5",
   "metadata": {},
   "outputs": [
    {
     "data": {
      "text/plain": [
       "(10754, 4)"
      ]
     },
     "execution_count": 122,
     "metadata": {},
     "output_type": "execute_result"
    }
   ],
   "source": [
    "X.shape"
   ]
  },
  {
   "cell_type": "markdown",
   "id": "4ae48d94",
   "metadata": {},
   "source": [
    "## Train the Model "
   ]
  },
  {
   "cell_type": "code",
   "execution_count": 123,
   "id": "b38e796f",
   "metadata": {},
   "outputs": [],
   "source": [
    "wcss = []\n",
    "for i in range(1, 20):  # Test 1 to 10 clusters\n",
    "    kmeans = KMeans(n_clusters=i,\n",
    "                    init='k-means++',\n",
    "                    max_iter=300,\n",
    "                    n_init=10,\n",
    "                    random_state=0)\n",
    "    kmeans.fit(X_scaled)\n",
    "    wcss.append(kmeans.inertia_)  # inertia_ is the WCSS\n"
   ]
  },
  {
   "cell_type": "code",
   "execution_count": 124,
   "id": "9120e85f",
   "metadata": {},
   "outputs": [
    {
     "data": {
      "image/png": "[encoded data removed]",
      "text/plain": [
       "<Figure size 1000x600 with 1 Axes>"
      ]
     },
     "metadata": {},
     "output_type": "display_data"
    }
   ],
   "source": [
    "# 3. Plot the Elbow Curve\n",
    "plt.figure(figsize=(10, 6))\n",
    "plt.plot(range(1, 20), wcss,  marker='o', linestyle='-', color='b')\n",
    "plt.title('Elbow Method')\n",
    "plt.xlabel('Number of clusters')\n",
    "plt.ylabel('WCSS')\n",
    "plt.grid(True)\n",
    "plt.show()"
   ]
  },
  {
   "cell_type": "code",
   "execution_count": 125,
   "id": "d9c4d306",
   "metadata": {},
   "outputs": [],
   "source": [
    "optimal_clusters = 3\n",
    "model = KMeans(n_clusters=optimal_clusters, init='k-means++', max_iter=300, n_init=10, random_state=0)"
   ]
  },
  {
   "cell_type": "code",
   "execution_count": 126,
   "id": "17c8600e",
   "metadata": {},
   "outputs": [],
   "source": [
    "# Fit the model on the training data\n",
    "y_pred = model.fit_predict(X_scaled)"
   ]
  },
  {
   "cell_type": "code",
   "execution_count": 127,
   "id": "8b5160ec",
   "metadata": {},
   "outputs": [
    {
     "data": {
      "text/html": [
       "<div>\n",
       "<style scoped>\n",
       "    .dataframe tbody tr th:only-of-type {\n",
       "        vertical-align: middle;\n",
       "    }\n",
       "\n",
       "    .dataframe tbody tr th {\n",
       "        vertical-align: top;\n",
       "    }\n",
       "\n",
       "    .dataframe thead th {\n",
       "        text-align: right;\n",
       "    }\n",
       "</style>\n",
       "<table border=\"1\" class=\"dataframe\">\n",
       "  <thead>\n",
       "    <tr style=\"text-align: right;\">\n",
       "      <th></th>\n",
       "      <th>appearance</th>\n",
       "      <th>minutes played</th>\n",
       "      <th>award</th>\n",
       "      <th>highest_value</th>\n",
       "    </tr>\n",
       "  </thead>\n",
       "  <tbody>\n",
       "    <tr>\n",
       "      <th>0</th>\n",
       "      <td>104</td>\n",
       "      <td>9390</td>\n",
       "      <td>13</td>\n",
       "      <td>70000000</td>\n",
       "    </tr>\n",
       "    <tr>\n",
       "      <th>1</th>\n",
       "      <td>15</td>\n",
       "      <td>1304</td>\n",
       "      <td>1</td>\n",
       "      <td>22000000</td>\n",
       "    </tr>\n",
       "  </tbody>\n",
       "</table>\n",
       "</div>"
      ],
      "text/plain": [
       "   appearance  minutes played  award  highest_value\n",
       "0         104            9390     13       70000000\n",
       "1          15            1304      1       22000000"
      ]
     },
     "execution_count": 127,
     "metadata": {},
     "output_type": "execute_result"
    }
   ],
   "source": [
    "X.head(2)"
   ]
  },
  {
   "cell_type": "code",
   "execution_count": 128,
   "id": "e1785372",
   "metadata": {},
   "outputs": [
    {
     "data": {
      "image/png": "[encoded data removed]",
      "text/plain": [
       "<Figure size 640x480 with 1 Axes>"
      ]
     },
     "metadata": {},
     "output_type": "display_data"
    },
    {
     "name": "stdout",
     "output_type": "stream",
     "text": [
      "Silhouette average score: 0.19364602867634548\n"
     ]
    }
   ],
   "source": [
    "from sklearn.metrics import silhouette_samples, silhouette_score\n",
    "\n",
    "# Calculate Silhouette scores for each data point\n",
    "silhouette_scores = silhouette_samples(X, y_pred)\n",
    "\n",
    "# Calculate Silhouette average score\n",
    "silhouette_avg = silhouette_score(X, y_pred)\n",
    "\n",
    "# Plot Silhouette scores\n",
    "plt.hist(silhouette_scores, bins=50, range=(-1, 1))\n",
    "plt.title('Histogram of Silhouette Scores')\n",
    "plt.xlabel('Silhouette Score')\n",
    "plt.ylabel('Number of Data Points')\n",
    "plt.show()\n",
    "\n",
    "print(f'Silhouette average score: {silhouette_avg}')"
   ]
  },
  {
   "cell_type": "code",
   "execution_count": 129,
   "id": "eadac80c",
   "metadata": {},
   "outputs": [
    {
     "data": {
      "image/png": "[encoded data removed]",
      "text/plain": [
       "<Figure size 640x480 with 1 Axes>"
      ]
     },
     "metadata": {},
     "output_type": "display_data"
    }
   ],
   "source": [
    "# Plotting the clusters with optimal number\n",
    "plt.scatter(X_scaled[:, 1], X_scaled[:, 2], c=y_pred, s=50, cmap='viridis')\n",
    "\n",
    "centers = model.cluster_centers_\n",
    "plt.scatter(centers[:, 2], centers[:, 2], c='red', s=200, alpha=0.75, marker='X')\n",
    "plt.title(f'K-Means Clustering with {optimal_clusters} Clusters')\n",
    "plt.xlabel('Feature 1')\n",
    "plt.ylabel('Feature 2')\n",
    "plt.show()"
   ]
  },
  {
   "cell_type": "code",
   "execution_count": 136,
   "id": "4408a2fb",
   "metadata": {},
   "outputs": [
    {
     "data": {
      "text/plain": [
       "kmeans\n",
       "2     411\n",
       "0    4540\n",
       "1    5803\n",
       "Name: count, dtype: int64"
      ]
     },
     "execution_count": 136,
     "metadata": {},
     "output_type": "execute_result"
    }
   ],
   "source": [
    "X['kmeans'] = y_pred\n",
    "X['kmeans'].value_counts().sort_values()"
   ]
  },
  {
   "cell_type": "code",
   "execution_count": 135,
   "id": "65218d16",
   "metadata": {},
   "outputs": [
    {
     "data": {
      "text/html": [
       "<div>\n",
       "<style scoped>\n",
       "    .dataframe tbody tr th:only-of-type {\n",
       "        vertical-align: middle;\n",
       "    }\n",
       "\n",
       "    .dataframe tbody tr th {\n",
       "        vertical-align: top;\n",
       "    }\n",
       "\n",
       "    .dataframe thead th {\n",
       "        text-align: right;\n",
       "    }\n",
       "</style>\n",
       "<table border=\"1\" class=\"dataframe\">\n",
       "  <thead>\n",
       "    <tr style=\"text-align: right;\">\n",
       "      <th></th>\n",
       "      <th>appearance</th>\n",
       "      <th>minutes played</th>\n",
       "      <th>award</th>\n",
       "      <th>highest_value</th>\n",
       "      <th>kmeans</th>\n",
       "    </tr>\n",
       "  </thead>\n",
       "  <tbody>\n",
       "    <tr>\n",
       "      <th>0</th>\n",
       "      <td>104</td>\n",
       "      <td>9390</td>\n",
       "      <td>13</td>\n",
       "      <td>70000000</td>\n",
       "      <td>2</td>\n",
       "    </tr>\n",
       "    <tr>\n",
       "      <th>1</th>\n",
       "      <td>15</td>\n",
       "      <td>1304</td>\n",
       "      <td>1</td>\n",
       "      <td>22000000</td>\n",
       "      <td>1</td>\n",
       "    </tr>\n",
       "    <tr>\n",
       "      <th>2</th>\n",
       "      <td>4</td>\n",
       "      <td>292</td>\n",
       "      <td>4</td>\n",
       "      <td>6000000</td>\n",
       "      <td>1</td>\n",
       "    </tr>\n",
       "    <tr>\n",
       "      <th>3</th>\n",
       "      <td>82</td>\n",
       "      <td>6408</td>\n",
       "      <td>9</td>\n",
       "      <td>50000000</td>\n",
       "      <td>2</td>\n",
       "    </tr>\n",
       "    <tr>\n",
       "      <th>4</th>\n",
       "      <td>63</td>\n",
       "      <td>5031</td>\n",
       "      <td>21</td>\n",
       "      <td>80000000</td>\n",
       "      <td>2</td>\n",
       "    </tr>\n",
       "  </tbody>\n",
       "</table>\n",
       "</div>"
      ],
      "text/plain": [
       "   appearance  minutes played  award  highest_value  kmeans\n",
       "0         104            9390     13       70000000       2\n",
       "1          15            1304      1       22000000       1\n",
       "2           4             292      4        6000000       1\n",
       "3          82            6408      9       50000000       2\n",
       "4          63            5031     21       80000000       2"
      ]
     },
     "execution_count": 135,
     "metadata": {},
     "output_type": "execute_result"
    }
   ],
   "source": [
    "X.head()"
   ]
  },
  {
   "cell_type": "code",
   "execution_count": 143,
   "id": "84d94e26",
   "metadata": {},
   "outputs": [
    {
     "data": {
      "text/plain": [
       "(1907503.8773048422, 56426642.33576642, 7027429.5154185025)"
      ]
     },
     "execution_count": 143,
     "metadata": {},
     "output_type": "execute_result"
    }
   ],
   "source": [
    "X[X['kmeans'] == 1][\"highest_value\"].mean(),X[X['kmeans'] == 2][\"highest_value\"].mean(),X[X['kmeans'] == 0][\"highest_value\"].mean()"
   ]
  },
  {
   "cell_type": "code",
   "execution_count": null,
   "id": "b69b3e61",
   "metadata": {},
   "outputs": [],
   "source": [
    "# 1 is the "
   ]
  },
  {
   "cell_type": "code",
   "execution_count": null,
   "id": "d18d2965",
   "metadata": {},
   "outputs": [
    {
     "data": {
      "text/plain": [
       "['scaler.joblib']"
      ]
     },
     "execution_count": 134,
     "metadata": {},
     "output_type": "execute_result"
    }
   ],
   "source": [
    "# import joblib\n",
    "# joblib.dump(model, 'Kmeanes.joblib')\n",
    "# joblib.dump(scaler, 'scaler.joblib')"
   ]
  },
  {
   "cell_type": "code",
   "execution_count": null,
   "id": "00de930d",
   "metadata": {},
   "outputs": [],
   "source": []
  }
 ],
 "metadata": {
  "kernelspec": {
   "display_name": "base",
   "language": "python",
   "name": "python3"
  },
  "language_info": {
   "codemirror_mode": {
    "name": "ipython",
    "version": 3
   },
   "file_extension": ".py",
   "mimetype": "text/x-python",
   "name": "python",
   "nbconvert_exporter": "python",
   "pygments_lexer": "ipython3",
   "version": "3.12.7"
  }
 },
 "nbformat": 4,
 "nbformat_minor": 5
}
